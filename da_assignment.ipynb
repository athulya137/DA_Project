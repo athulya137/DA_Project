{
 "cells": [
  {
   "cell_type": "markdown",
   "id": "d31c4a31-f73e-44d0-afe5-581994baef99",
   "metadata": {},
   "source": [
    "# Load the Dataset"
   ]
  },
  {
   "cell_type": "code",
   "execution_count": 139,
   "id": "a1cf3414-770a-49db-96de-0e601195ef78",
   "metadata": {},
   "outputs": [
    {
     "data": {
      "text/html": [
       "<div>\n",
       "<style scoped>\n",
       "    .dataframe tbody tr th:only-of-type {\n",
       "        vertical-align: middle;\n",
       "    }\n",
       "\n",
       "    .dataframe tbody tr th {\n",
       "        vertical-align: top;\n",
       "    }\n",
       "\n",
       "    .dataframe thead th {\n",
       "        text-align: right;\n",
       "    }\n",
       "</style>\n",
       "<table border=\"1\" class=\"dataframe\">\n",
       "  <thead>\n",
       "    <tr style=\"text-align: right;\">\n",
       "      <th></th>\n",
       "      <th>Booking ID</th>\n",
       "      <th>Customer ID</th>\n",
       "      <th>Customer Name</th>\n",
       "      <th>Booking Type</th>\n",
       "      <th>Booking Date</th>\n",
       "      <th>Status</th>\n",
       "      <th>Class Type</th>\n",
       "      <th>Instructor</th>\n",
       "      <th>Time Slot</th>\n",
       "      <th>Duration (mins)</th>\n",
       "      <th>Price</th>\n",
       "      <th>Facility</th>\n",
       "      <th>Theme</th>\n",
       "      <th>Subscription Type</th>\n",
       "      <th>Service Name</th>\n",
       "      <th>Service Type</th>\n",
       "      <th>Customer Email</th>\n",
       "      <th>Customer Phone</th>\n",
       "    </tr>\n",
       "  </thead>\n",
       "  <tbody>\n",
       "    <tr>\n",
       "      <th>0</th>\n",
       "      <td>279d92c6-ce26-47c0-8915-e45b77fe20e2</td>\n",
       "      <td>00901ce3-3d86-4c97-bca2-40ccac2fb99f</td>\n",
       "      <td>Customer 1</td>\n",
       "      <td>Facility</td>\n",
       "      <td>2025-05-30</td>\n",
       "      <td>Pending</td>\n",
       "      <td>NaN</td>\n",
       "      <td>NaN</td>\n",
       "      <td>10:00:00</td>\n",
       "      <td>90.0</td>\n",
       "      <td>42.74</td>\n",
       "      <td>Party Room</td>\n",
       "      <td>NaN</td>\n",
       "      <td>NaN</td>\n",
       "      <td>Party Room</td>\n",
       "      <td>Facility</td>\n",
       "      <td>customer1@example.com</td>\n",
       "      <td>001-730-9034</td>\n",
       "    </tr>\n",
       "    <tr>\n",
       "      <th>1</th>\n",
       "      <td>415bfcbe-1a2e-4d4b-809a-4c5b606653b1</td>\n",
       "      <td>b82db986-bd52-4b07-bdd8-aa8cf2016241</td>\n",
       "      <td>Customer 2</td>\n",
       "      <td>Birthday Party</td>\n",
       "      <td>2025-05-29</td>\n",
       "      <td>Pending</td>\n",
       "      <td>NaN</td>\n",
       "      <td>NaN</td>\n",
       "      <td>NaN</td>\n",
       "      <td>NaN</td>\n",
       "      <td>182.06</td>\n",
       "      <td>Party Room</td>\n",
       "      <td>Superhero</td>\n",
       "      <td>NaN</td>\n",
       "      <td>Party Room</td>\n",
       "      <td>Birthday Party</td>\n",
       "      <td>customer2@example.com</td>\n",
       "      <td>001-537-5668</td>\n",
       "    </tr>\n",
       "    <tr>\n",
       "      <th>2</th>\n",
       "      <td>2100024b-46fc-47b5-ac1c-047d007a4723</td>\n",
       "      <td>6bbb6e83-9577-4f64-80b0-f073132d18f3</td>\n",
       "      <td>Customer 3</td>\n",
       "      <td>Birthday Party</td>\n",
       "      <td>2025-05-09</td>\n",
       "      <td>Confirmed</td>\n",
       "      <td>NaN</td>\n",
       "      <td>NaN</td>\n",
       "      <td>11:00:00</td>\n",
       "      <td>120.0</td>\n",
       "      <td>207.50</td>\n",
       "      <td>Play Area</td>\n",
       "      <td>NaN</td>\n",
       "      <td>NaN</td>\n",
       "      <td>Play Area</td>\n",
       "      <td>Facility</td>\n",
       "      <td>customer3@example.com</td>\n",
       "      <td>001-880-7769</td>\n",
       "    </tr>\n",
       "    <tr>\n",
       "      <th>3</th>\n",
       "      <td>74936def-088f-4d34-bad1-dfa76f78b704</td>\n",
       "      <td>f16f5beb-6a7d-4493-a19e-a30dbbd206e9</td>\n",
       "      <td>Customer 4</td>\n",
       "      <td>Birthday Party</td>\n",
       "      <td>2025-06-07</td>\n",
       "      <td>Pending</td>\n",
       "      <td>NaN</td>\n",
       "      <td>NaN</td>\n",
       "      <td>12:00:00</td>\n",
       "      <td>90.0</td>\n",
       "      <td>203.20</td>\n",
       "      <td>Play Area</td>\n",
       "      <td>NaN</td>\n",
       "      <td>NaN</td>\n",
       "      <td>Play Area</td>\n",
       "      <td>Birthday Party</td>\n",
       "      <td>customer4@example.com</td>\n",
       "      <td>001-491-3107</td>\n",
       "    </tr>\n",
       "    <tr>\n",
       "      <th>4</th>\n",
       "      <td>6272b4e7-a508-4ed7-bae0-21f7293287a8</td>\n",
       "      <td>eb297435-93d1-4e65-8dd4-6450922305cb</td>\n",
       "      <td>Customer 5</td>\n",
       "      <td>Class</td>\n",
       "      <td>2025-04-13</td>\n",
       "      <td>Pending</td>\n",
       "      <td>Art</td>\n",
       "      <td>NaN</td>\n",
       "      <td>15:00:00</td>\n",
       "      <td>120.0</td>\n",
       "      <td>161.14</td>\n",
       "      <td>NaN</td>\n",
       "      <td>NaN</td>\n",
       "      <td>NaN</td>\n",
       "      <td>Art</td>\n",
       "      <td>Class</td>\n",
       "      <td>customer5@example.com</td>\n",
       "      <td>001-718-3794</td>\n",
       "    </tr>\n",
       "  </tbody>\n",
       "</table>\n",
       "</div>"
      ],
      "text/plain": [
       "                             Booking ID                           Customer ID  \\\n",
       "0  279d92c6-ce26-47c0-8915-e45b77fe20e2  00901ce3-3d86-4c97-bca2-40ccac2fb99f   \n",
       "1  415bfcbe-1a2e-4d4b-809a-4c5b606653b1  b82db986-bd52-4b07-bdd8-aa8cf2016241   \n",
       "2  2100024b-46fc-47b5-ac1c-047d007a4723  6bbb6e83-9577-4f64-80b0-f073132d18f3   \n",
       "3  74936def-088f-4d34-bad1-dfa76f78b704  f16f5beb-6a7d-4493-a19e-a30dbbd206e9   \n",
       "4  6272b4e7-a508-4ed7-bae0-21f7293287a8  eb297435-93d1-4e65-8dd4-6450922305cb   \n",
       "\n",
       "  Customer Name    Booking Type Booking Date     Status Class Type Instructor  \\\n",
       "0    Customer 1        Facility   2025-05-30    Pending        NaN        NaN   \n",
       "1    Customer 2  Birthday Party   2025-05-29    Pending        NaN        NaN   \n",
       "2    Customer 3  Birthday Party   2025-05-09  Confirmed        NaN        NaN   \n",
       "3    Customer 4  Birthday Party   2025-06-07    Pending        NaN        NaN   \n",
       "4    Customer 5           Class   2025-04-13    Pending        Art        NaN   \n",
       "\n",
       "  Time Slot  Duration (mins)   Price    Facility      Theme  \\\n",
       "0  10:00:00             90.0   42.74  Party Room        NaN   \n",
       "1       NaN              NaN  182.06  Party Room  Superhero   \n",
       "2  11:00:00            120.0  207.50   Play Area        NaN   \n",
       "3  12:00:00             90.0  203.20   Play Area        NaN   \n",
       "4  15:00:00            120.0  161.14         NaN        NaN   \n",
       "\n",
       "   Subscription Type Service Name    Service Type         Customer Email  \\\n",
       "0                NaN   Party Room        Facility  customer1@example.com   \n",
       "1                NaN   Party Room  Birthday Party  customer2@example.com   \n",
       "2                NaN    Play Area        Facility  customer3@example.com   \n",
       "3                NaN    Play Area  Birthday Party  customer4@example.com   \n",
       "4                NaN          Art           Class  customer5@example.com   \n",
       "\n",
       "  Customer Phone  \n",
       "0   001-730-9034  \n",
       "1   001-537-5668  \n",
       "2   001-880-7769  \n",
       "3   001-491-3107  \n",
       "4   001-718-3794  "
      ]
     },
     "execution_count": 139,
     "metadata": {},
     "output_type": "execute_result"
    }
   ],
   "source": [
    "import pandas as pd\n",
    "\n",
    "# Load the dataset\n",
    "file_path = \"DataAnalyst_Assesment_Dataset.xlsx\"\n",
    "df = pd.read_excel(file_path)\n",
    "\n",
    "# Display first 5 rows\n",
    "df.head()\n"
   ]
  },
  {
   "cell_type": "code",
   "execution_count": 140,
   "id": "eb6d136b-41db-433c-a940-c43fa4e729b0",
   "metadata": {},
   "outputs": [
    {
     "name": "stdout",
     "output_type": "stream",
     "text": [
      "<class 'pandas.core.frame.DataFrame'>\n",
      "RangeIndex: 1000 entries, 0 to 999\n",
      "Data columns (total 18 columns):\n",
      " #   Column             Non-Null Count  Dtype         \n",
      "---  ------             --------------  -----         \n",
      " 0   Booking ID         1000 non-null   object        \n",
      " 1   Customer ID        1000 non-null   object        \n",
      " 2   Customer Name      1000 non-null   object        \n",
      " 3   Booking Type       1000 non-null   object        \n",
      " 4   Booking Date       1000 non-null   datetime64[ns]\n",
      " 5   Status             1000 non-null   object        \n",
      " 6   Class Type         328 non-null    object        \n",
      " 7   Instructor         270 non-null    object        \n",
      " 8   Time Slot          795 non-null    object        \n",
      " 9   Duration (mins)    795 non-null    float64       \n",
      " 10  Price              1000 non-null   float64       \n",
      " 11  Facility           672 non-null    object        \n",
      " 12  Theme              273 non-null    object        \n",
      " 13  Subscription Type  0 non-null      float64       \n",
      " 14  Service Name       1000 non-null   object        \n",
      " 15  Service Type       1000 non-null   object        \n",
      " 16  Customer Email     906 non-null    object        \n",
      " 17  Customer Phone     895 non-null    object        \n",
      "dtypes: datetime64[ns](1), float64(3), object(14)\n",
      "memory usage: 140.8+ KB\n"
     ]
    }
   ],
   "source": [
    "# summery\n",
    "df.info()"
   ]
  },
  {
   "cell_type": "markdown",
   "id": "f6071334-82df-4302-9fa7-a531dfe55621",
   "metadata": {},
   "source": [
    "# Data Cleaning"
   ]
  },
  {
   "cell_type": "code",
   "execution_count": 144,
   "id": "b36e820b-55d4-4c8e-b778-3f376e9199f1",
   "metadata": {},
   "outputs": [
    {
     "name": "stdout",
     "output_type": "stream",
     "text": [
      "<class 'pandas.core.frame.DataFrame'>\n",
      "RangeIndex: 1000 entries, 0 to 999\n",
      "Data columns (total 17 columns):\n",
      " #   Column           Non-Null Count  Dtype         \n",
      "---  ------           --------------  -----         \n",
      " 0   Booking ID       1000 non-null   object        \n",
      " 1   Customer ID      1000 non-null   object        \n",
      " 2   Customer Name    1000 non-null   object        \n",
      " 3   Booking Type     1000 non-null   object        \n",
      " 4   Booking Date     1000 non-null   datetime64[ns]\n",
      " 5   Status           1000 non-null   object        \n",
      " 6   Class Type       1000 non-null   object        \n",
      " 7   Instructor       1000 non-null   object        \n",
      " 8   Time Slot        1000 non-null   object        \n",
      " 9   Duration (mins)  1000 non-null   float64       \n",
      " 10  Price            1000 non-null   float64       \n",
      " 11  Facility         1000 non-null   object        \n",
      " 12  Theme            1000 non-null   object        \n",
      " 13  Service Name     1000 non-null   object        \n",
      " 14  Service Type     1000 non-null   object        \n",
      " 15  Customer Email   906 non-null    object        \n",
      " 16  Customer Phone   895 non-null    object        \n",
      "dtypes: datetime64[ns](1), float64(2), object(14)\n",
      "memory usage: 132.9+ KB\n",
      "None\n"
     ]
    }
   ],
   "source": [
    "# Drop 'Subscription Type' since it's entirely null\n",
    "df.drop(columns=['Subscription Type'], inplace=True)\n",
    "\n",
    "# Fill missing categorical values with 'Unknown'\n",
    "categorical_cols = ['Class Type', 'Instructor', 'Time Slot', 'Facility', 'Theme']\n",
    "df[categorical_cols] = df[categorical_cols].fillna('Unknown')\n",
    "\n",
    "# Fill missing numeric values with median\n",
    "df['Duration (mins)'].fillna(df['Duration (mins)'].median(), inplace=True)\n",
    "\n",
    "# Ensure 'Booking Date' is in datetime format\n",
    "df['Booking Date'] = pd.to_datetime(df['Booking Date'])\n",
    "\n",
    "# Verify cleaned data\n",
    "print(df.info())\n"
   ]
  },
  {
   "cell_type": "markdown",
   "id": "1faf75bc-ee0f-4646-b5b3-6f7b09763eb2",
   "metadata": {},
   "source": [
    "# EDA"
   ]
  },
  {
   "cell_type": "code",
   "execution_count": 147,
   "id": "63e4865e-e1db-4c01-92c9-c856ea57bdd9",
   "metadata": {},
   "outputs": [
    {
     "data": {
      "image/png": "[encoded data removed]",
      "text/plain": [
       "<Figure size 1000x500 with 1 Axes>"
      ]
     },
     "metadata": {},
     "output_type": "display_data"
    }
   ],
   "source": [
    "import matplotlib.pyplot as plt\n",
    "import seaborn as sns\n",
    "\n",
    "# Total Bookings by Type\n",
    "plt.figure(figsize=(10, 5))\n",
    "sns.countplot(y=df[\"Booking Type\"], order=df[\"Booking Type\"].value_counts().index, palette=\"coolwarm\")\n",
    "plt.title(\"Total Bookings by Type\")\n",
    "plt.show()\n"
   ]
  },
  {
   "cell_type": "markdown",
   "id": "6104f456-b089-439c-8f13-7cc0e7fc9be6",
   "metadata": {},
   "source": [
    "# Create a SQLite Database"
   ]
  },
  {
   "cell_type": "code",
   "execution_count": 150,
   "id": "d6ee3105-e500-4379-b73e-1200b8ef7f5f",
   "metadata": {},
   "outputs": [
    {
     "data": {
      "text/plain": [
       "1000"
      ]
     },
     "execution_count": 150,
     "metadata": {},
     "output_type": "execute_result"
    }
   ],
   "source": [
    "import sqlite3\n",
    "\n",
    "# Create an in-memory SQLite database\n",
    "conn = sqlite3.connect(\":memory:\")\n",
    "df.to_sql(\"bookings\", conn, index=False, if_exists=\"replace\")\n"
   ]
  },
  {
   "cell_type": "code",
   "execution_count": null,
   "id": "2701cdc0-efe9-4bf8-96c7-b33ddb7cb496",
   "metadata": {},
   "outputs": [],
   "source": []
  }
 ],
 "metadata": {
  "kernelspec": {
   "display_name": "Python 3 (ipykernel)",
   "language": "python",
   "name": "python3"
  },
  "language_info": {
   "codemirror_mode": {
    "name": "ipython",
    "version": 3
   },
   "file_extension": ".py",
   "mimetype": "text/x-python",
   "name": "python",
   "nbconvert_exporter": "python",
   "pygments_lexer": "ipython3",
   "version": "3.12.4"
  }
 },
 "nbformat": 4,
 "nbformat_minor": 5
}
