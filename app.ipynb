{
 "cells": [
  {
   "cell_type": "code",
   "execution_count": 35,
   "id": "e87d89b4-8d69-4400-af36-debc1e7e0516",
   "metadata": {},
   "outputs": [],
   "source": [
    "import warnings\n",
    "warnings.filterwarnings('ignore')"
   ]
  },
  {
   "cell_type": "code",
   "execution_count": 56,
   "id": "9ea958f8-27e7-4b5d-9fda-27f67161d6e0",
   "metadata": {},
   "outputs": [
    {
     "data": {
      "text/plain": [
       "False"
      ]
     },
     "execution_count": 56,
     "metadata": {},
     "output_type": "execute_result"
    }
   ],
   "source": [
    "import streamlit as st\n",
    "import pandas as pd\n",
    "import sqlite3\n",
    "import plotly.express as px\n",
    "\n",
    "# Load Data\n",
    "file_path = \"DataAnalyst_Assesment_Dataset.xlsx\"\n",
    "df = pd.read_excel(file_path)\n",
    "\n",
    "# Data Cleaning\n",
    "df.drop_duplicates(inplace=True)\n",
    "df.fillna(\"Unknown\", inplace=True)\n",
    "df['Booking Date'] = pd.to_datetime(df['Booking Date'], errors='coerce')\n",
    "\n",
    "# Create SQLite Database\n",
    "conn = sqlite3.connect(\":memory:\")\n",
    "df.to_sql(\"bookings\", conn, index=False, if_exists=\"replace\")\n",
    "\n",
    "# Streamlit UI\n",
    "st.title(\"📊 Booking Data Analysis Dashboard\")\n",
    "\n",
    "# Dropdown Filter for Booking Type\n",
    "booking_types = st.selectbox(\"Select Booking Type\", df[\"Booking Type\"].unique())\n",
    "\n",
    "# Query for Selected Booking Type\n",
    "query1 = f\"\"\"\n",
    "    SELECT \"Booking Type\", COUNT(*) as Total_Bookings \n",
    "    FROM bookings \n",
    "    WHERE \"Booking Type\" = '{booking_types}'\n",
    "    GROUP BY \"Booking Type\"\n",
    "    ORDER BY Total_Bookings DESC;\n",
    "\"\"\"\n",
    "bookings_by_type = pd.read_sql(query1, conn)\n",
    "st.subheader(\"📌 Total Bookings by Type\")\n",
    "st.dataframe(bookings_by_type)\n",
    "\n",
    "# Monthly Trend Visualization\n",
    "st.subheader(\"📈 Monthly Booking Trends\")\n",
    "df[\"Month\"] = df[\"Booking Date\"].dt.strftime(\"%Y-%m\")\n",
    "monthly_trend = df.groupby(\"Month\").size().reset_index(name=\"Count\")\n",
    "fig = px.line(monthly_trend, x=\"Month\", y=\"Count\", title=\"Monthly Booking Trends\")\n",
    "st.plotly_chart(fig)\n",
    "\n",
    "# Dynamic SQL Query Input\n",
    "st.subheader(\"📝 SQL Query Executor\")\n",
    "query_input = st.text_area(\"Enter your SQL Query\", \"SELECT * FROM bookings LIMIT 5\")\n",
    "if st.button(\"Run Query\"):\n",
    "    result = pd.read_sql(query_input, conn)\n",
    "    st.dataframe(result)\n",
    "\n",
    "# Download Cleaned Data\n",
    "st.subheader(\"📥 Download Cleaned Data\")\n",
    "csv = df.to_csv(index=False).encode('utf-8')\n",
    "st.download_button(\"Download CSV\", csv, \"cleaned_data.csv\", \"text/csv\")\n"
   ]
  },
  {
   "cell_type": "code",
   "execution_count": null,
   "id": "3c1d0ec6-d089-4f7c-a1d6-efaeb935f063",
   "metadata": {},
   "outputs": [],
   "source": []
  },
  {
   "cell_type": "code",
   "execution_count": null,
   "id": "924acc3e-6a42-4f95-b03b-e690c12971a0",
   "metadata": {},
   "outputs": [],
   "source": []
  }
 ],
 "metadata": {
  "kernelspec": {
   "display_name": "Python 3 (ipykernel)",
   "language": "python",
   "name": "python3"
  },
  "language_info": {
   "codemirror_mode": {
    "name": "ipython",
    "version": 3
   },
   "file_extension": ".py",
   "mimetype": "text/x-python",
   "name": "python",
   "nbconvert_exporter": "python",
   "pygments_lexer": "ipython3",
   "version": "3.12.4"
  }
 },
 "nbformat": 4,
 "nbformat_minor": 5
}
